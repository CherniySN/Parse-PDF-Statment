{
 "cells": [
  {
   "cell_type": "code",
   "execution_count": 140,
   "id": "de486333",
   "metadata": {},
   "outputs": [],
   "source": [
    "import pandas as pd\n",
    "import tabula"
   ]
  },
  {
   "cell_type": "code",
   "execution_count": 141,
   "id": "26f34124",
   "metadata": {},
   "outputs": [],
   "source": [
    "pdf_in = \"C:/Users/pc/PycharmProjects/statement_sorter/report_2021-09-05_2023-04-01[7802].pdf\"\n",
    "\n",
    "PDF_list_of_DFs = tabula.read_pdf(pdf_in, pages='all', multiple_tables=True, pandas_options={'header': None})\n",
    "\n",
    "#Читаем таблицы из ПДФ. Получаем в виде списка табличек т.е. список Датафреймов. \n",
    "#Далее нужно найти таблицы которые нужно привести к общей форме заглушками."
   ]
  },
  {
   "cell_type": "code",
   "execution_count": 142,
   "id": "aa6703d2",
   "metadata": {},
   "outputs": [],
   "source": [
    "DF_Pass = pd.DataFrame(columns=[0,1,2,3,4,5,6,7,8,9,10,11]) #заглушка"
   ]
  },
  {
   "cell_type": "code",
   "execution_count": 143,
   "id": "a94533ea",
   "metadata": {},
   "outputs": [],
   "source": [
    "# очищаем заглушкой таблицы которые считались но нам не нужны\n",
    "PDF_list_of_DFs[-4] = DF_Pass \n",
    "PDF_list_of_DFs[-3] = DF_Pass\n",
    "PDF_list_of_DFs[-2] = DF_Pass\n",
    "PDF_list_of_DFs[-1] = DF_Pass\n",
    "PDF_list_of_DFs[0] = DF_Pass"
   ]
  },
  {
   "cell_type": "code",
   "execution_count": 144,
   "id": "57966502",
   "metadata": {},
   "outputs": [
    {
     "name": "stderr",
     "output_type": "stream",
     "text": [
      "C:\\Users\\pc\\AppData\\Local\\Temp\\ipykernel_16680\\2171215415.py:3: FutureWarning: The frame.append method is deprecated and will be removed from pandas in a future version. Use pandas.concat instead.\n",
      "  DF_Pass = DF_Pass.append(value, ignore_index = True)\n"
     ]
    }
   ],
   "source": [
    "# соединяем все ДФ в один большой для анализа\n",
    "for value in PDF_list_of_DFs:\n",
    "    DF_Pass = DF_Pass.append(value, ignore_index = True)"
   ]
  },
  {
   "cell_type": "code",
   "execution_count": 145,
   "id": "c6949d91",
   "metadata": {},
   "outputs": [],
   "source": [
    "# выбираем нужные столбцы \n",
    "DF_Pass = DF_Pass.iloc[:, [1,2,4]]"
   ]
  },
  {
   "cell_type": "code",
   "execution_count": 148,
   "id": "5b19ed01",
   "metadata": {},
   "outputs": [],
   "source": [
    "DF_Pass = DF_Pass.dropna()"
   ]
  },
  {
   "cell_type": "code",
   "execution_count": 169,
   "id": "f193be5f",
   "metadata": {},
   "outputs": [],
   "source": [
    "d = DF_Pass[DF_Pass[2].str.contains(\"аванса|заработной|отпуск|премии\")== True ]"
   ]
  },
  {
   "cell_type": "code",
   "execution_count": 170,
   "id": "236b9fe1",
   "metadata": {
    "scrolled": true
   },
   "outputs": [
    {
     "data": {
      "text/html": [
       "<div>\n",
       "<style scoped>\n",
       "    .dataframe tbody tr th:only-of-type {\n",
       "        vertical-align: middle;\n",
       "    }\n",
       "\n",
       "    .dataframe tbody tr th {\n",
       "        vertical-align: top;\n",
       "    }\n",
       "\n",
       "    .dataframe thead th {\n",
       "        text-align: right;\n",
       "    }\n",
       "</style>\n",
       "<table border=\"1\" class=\"dataframe\">\n",
       "  <thead>\n",
       "    <tr style=\"text-align: right;\">\n",
       "      <th></th>\n",
       "      <th>1</th>\n",
       "      <th>2</th>\n",
       "      <th>4</th>\n",
       "    </tr>\n",
       "  </thead>\n",
       "  <tbody>\n",
       "    <tr>\n",
       "      <th>34</th>\n",
       "      <td>20/09/21</td>\n",
       "      <td>Платеж на клиентский контракт: Зачисление аван...</td>\n",
       "      <td>12963</td>\n",
       "    </tr>\n",
       "    <tr>\n",
       "      <th>36</th>\n",
       "      <td>24/09/21</td>\n",
       "      <td>Платеж на клиентский контракт: Зачисление прем...</td>\n",
       "      <td>11909.42</td>\n",
       "    </tr>\n",
       "    <tr>\n",
       "      <th>66</th>\n",
       "      <td>05/10/21</td>\n",
       "      <td>Платеж на клиентский контракт: Зачисление зара...</td>\n",
       "      <td>12963</td>\n",
       "    </tr>\n",
       "    <tr>\n",
       "      <th>78</th>\n",
       "      <td>20/10/21</td>\n",
       "      <td>Платеж на клиентский контракт: Зачисление аван...</td>\n",
       "      <td>13580.52</td>\n",
       "    </tr>\n",
       "    <tr>\n",
       "      <th>112</th>\n",
       "      <td>25/10/21</td>\n",
       "      <td>Платеж на клиентский контракт: Зачисление прем...</td>\n",
       "      <td>12304.79</td>\n",
       "    </tr>\n",
       "    <tr>\n",
       "      <th>...</th>\n",
       "      <td>...</td>\n",
       "      <td>...</td>\n",
       "      <td>...</td>\n",
       "    </tr>\n",
       "    <tr>\n",
       "      <th>1773</th>\n",
       "      <td>20/02/23</td>\n",
       "      <td>Платеж на клиентский контракт: Зачисление аван...</td>\n",
       "      <td>21415.38</td>\n",
       "    </tr>\n",
       "    <tr>\n",
       "      <th>1775</th>\n",
       "      <td>21/02/23</td>\n",
       "      <td>Платеж на клиентский контракт: Зачисление прем...</td>\n",
       "      <td>14611.44</td>\n",
       "    </tr>\n",
       "    <tr>\n",
       "      <th>1782</th>\n",
       "      <td>03/03/23</td>\n",
       "      <td>Платеж на клиентский контракт: Зачисление зара...</td>\n",
       "      <td>13384.62</td>\n",
       "    </tr>\n",
       "    <tr>\n",
       "      <th>1810</th>\n",
       "      <td>20/03/23</td>\n",
       "      <td>Платеж на клиентский контракт: Зачисление аван...</td>\n",
       "      <td>15709.14</td>\n",
       "    </tr>\n",
       "    <tr>\n",
       "      <th>1812</th>\n",
       "      <td>22/03/23</td>\n",
       "      <td>Платеж на клиентский контракт: Зачисление прем...</td>\n",
       "      <td>15110.87</td>\n",
       "    </tr>\n",
       "  </tbody>\n",
       "</table>\n",
       "<p>67 rows × 3 columns</p>\n",
       "</div>"
      ],
      "text/plain": [
       "             1                                                  2         4\n",
       "34    20/09/21  Платеж на клиентский контракт: Зачисление аван...     12963\n",
       "36    24/09/21  Платеж на клиентский контракт: Зачисление прем...  11909.42\n",
       "66    05/10/21  Платеж на клиентский контракт: Зачисление зара...     12963\n",
       "78    20/10/21  Платеж на клиентский контракт: Зачисление аван...  13580.52\n",
       "112   25/10/21  Платеж на клиентский контракт: Зачисление прем...  12304.79\n",
       "...        ...                                                ...       ...\n",
       "1773  20/02/23  Платеж на клиентский контракт: Зачисление аван...  21415.38\n",
       "1775  21/02/23  Платеж на клиентский контракт: Зачисление прем...  14611.44\n",
       "1782  03/03/23  Платеж на клиентский контракт: Зачисление зара...  13384.62\n",
       "1810  20/03/23  Платеж на клиентский контракт: Зачисление аван...  15709.14\n",
       "1812  22/03/23  Платеж на клиентский контракт: Зачисление прем...  15110.87\n",
       "\n",
       "[67 rows x 3 columns]"
      ]
     },
     "execution_count": 170,
     "metadata": {},
     "output_type": "execute_result"
    }
   ],
   "source": [
    "d"
   ]
  },
  {
   "cell_type": "code",
   "execution_count": 172,
   "id": "c11aa442",
   "metadata": {},
   "outputs": [],
   "source": [
    "import matplotlib.pyplot as plt"
   ]
  },
  {
   "cell_type": "code",
   "execution_count": 211,
   "id": "008e3003",
   "metadata": {},
   "outputs": [
    {
     "name": "stderr",
     "output_type": "stream",
     "text": [
      "C:\\Users\\pc\\AppData\\Local\\Temp\\ipykernel_16680\\1102954304.py:1: SettingWithCopyWarning: \n",
      "A value is trying to be set on a copy of a slice from a DataFrame.\n",
      "Try using .loc[row_indexer,col_indexer] = value instead\n",
      "\n",
      "See the caveats in the documentation: https://pandas.pydata.org/pandas-docs/stable/user_guide/indexing.html#returning-a-view-versus-a-copy\n",
      "  d[1] = d[1].astype(\"datetime64[ns]\")\n"
     ]
    }
   ],
   "source": [
    "d[1] = d[1].astype(\"datetime64[ns]\")"
   ]
  },
  {
   "cell_type": "code",
   "execution_count": 212,
   "id": "a4ba61e4",
   "metadata": {},
   "outputs": [
    {
     "data": {
      "text/html": [
       "<div>\n",
       "<style scoped>\n",
       "    .dataframe tbody tr th:only-of-type {\n",
       "        vertical-align: middle;\n",
       "    }\n",
       "\n",
       "    .dataframe tbody tr th {\n",
       "        vertical-align: top;\n",
       "    }\n",
       "\n",
       "    .dataframe thead th {\n",
       "        text-align: right;\n",
       "    }\n",
       "</style>\n",
       "<table border=\"1\" class=\"dataframe\">\n",
       "  <thead>\n",
       "    <tr style=\"text-align: right;\">\n",
       "      <th></th>\n",
       "      <th>1</th>\n",
       "      <th>2</th>\n",
       "      <th>4</th>\n",
       "    </tr>\n",
       "  </thead>\n",
       "  <tbody>\n",
       "    <tr>\n",
       "      <th>34</th>\n",
       "      <td>2021-09-20</td>\n",
       "      <td>Платеж на клиентский контракт: Зачисление аван...</td>\n",
       "      <td>12963.00</td>\n",
       "    </tr>\n",
       "    <tr>\n",
       "      <th>36</th>\n",
       "      <td>2021-09-24</td>\n",
       "      <td>Платеж на клиентский контракт: Зачисление прем...</td>\n",
       "      <td>11909.42</td>\n",
       "    </tr>\n",
       "    <tr>\n",
       "      <th>66</th>\n",
       "      <td>2021-05-10</td>\n",
       "      <td>Платеж на клиентский контракт: Зачисление зара...</td>\n",
       "      <td>12963.00</td>\n",
       "    </tr>\n",
       "    <tr>\n",
       "      <th>78</th>\n",
       "      <td>2021-10-20</td>\n",
       "      <td>Платеж на клиентский контракт: Зачисление аван...</td>\n",
       "      <td>13580.52</td>\n",
       "    </tr>\n",
       "    <tr>\n",
       "      <th>112</th>\n",
       "      <td>2021-10-25</td>\n",
       "      <td>Платеж на клиентский контракт: Зачисление прем...</td>\n",
       "      <td>12304.79</td>\n",
       "    </tr>\n",
       "    <tr>\n",
       "      <th>...</th>\n",
       "      <td>...</td>\n",
       "      <td>...</td>\n",
       "      <td>...</td>\n",
       "    </tr>\n",
       "    <tr>\n",
       "      <th>1773</th>\n",
       "      <td>2023-02-20</td>\n",
       "      <td>Платеж на клиентский контракт: Зачисление аван...</td>\n",
       "      <td>21415.38</td>\n",
       "    </tr>\n",
       "    <tr>\n",
       "      <th>1775</th>\n",
       "      <td>2023-02-21</td>\n",
       "      <td>Платеж на клиентский контракт: Зачисление прем...</td>\n",
       "      <td>14611.44</td>\n",
       "    </tr>\n",
       "    <tr>\n",
       "      <th>1782</th>\n",
       "      <td>2023-03-03</td>\n",
       "      <td>Платеж на клиентский контракт: Зачисление зара...</td>\n",
       "      <td>13384.62</td>\n",
       "    </tr>\n",
       "    <tr>\n",
       "      <th>1810</th>\n",
       "      <td>2023-03-20</td>\n",
       "      <td>Платеж на клиентский контракт: Зачисление аван...</td>\n",
       "      <td>15709.14</td>\n",
       "    </tr>\n",
       "    <tr>\n",
       "      <th>1812</th>\n",
       "      <td>2023-03-22</td>\n",
       "      <td>Платеж на клиентский контракт: Зачисление прем...</td>\n",
       "      <td>15110.87</td>\n",
       "    </tr>\n",
       "  </tbody>\n",
       "</table>\n",
       "<p>67 rows × 3 columns</p>\n",
       "</div>"
      ],
      "text/plain": [
       "              1                                                  2         4\n",
       "34   2021-09-20  Платеж на клиентский контракт: Зачисление аван...  12963.00\n",
       "36   2021-09-24  Платеж на клиентский контракт: Зачисление прем...  11909.42\n",
       "66   2021-05-10  Платеж на клиентский контракт: Зачисление зара...  12963.00\n",
       "78   2021-10-20  Платеж на клиентский контракт: Зачисление аван...  13580.52\n",
       "112  2021-10-25  Платеж на клиентский контракт: Зачисление прем...  12304.79\n",
       "...         ...                                                ...       ...\n",
       "1773 2023-02-20  Платеж на клиентский контракт: Зачисление аван...  21415.38\n",
       "1775 2023-02-21  Платеж на клиентский контракт: Зачисление прем...  14611.44\n",
       "1782 2023-03-03  Платеж на клиентский контракт: Зачисление зара...  13384.62\n",
       "1810 2023-03-20  Платеж на клиентский контракт: Зачисление аван...  15709.14\n",
       "1812 2023-03-22  Платеж на клиентский контракт: Зачисление прем...  15110.87\n",
       "\n",
       "[67 rows x 3 columns]"
      ]
     },
     "execution_count": 212,
     "metadata": {},
     "output_type": "execute_result"
    }
   ],
   "source": [
    "d"
   ]
  },
  {
   "cell_type": "code",
   "execution_count": 215,
   "id": "6e8c2029",
   "metadata": {},
   "outputs": [],
   "source": [
    "s = d[d[1] > '2022-10-01']"
   ]
  },
  {
   "cell_type": "code",
   "execution_count": 220,
   "id": "fd74aba2",
   "metadata": {},
   "outputs": [
    {
     "data": {
      "text/plain": [
       "43337.27"
      ]
     },
     "execution_count": 220,
     "metadata": {},
     "output_type": "execute_result"
    }
   ],
   "source": [
    "round(s[4].sum() / 6, 2)"
   ]
  },
  {
   "cell_type": "code",
   "execution_count": null,
   "id": "6fe7f9e3",
   "metadata": {},
   "outputs": [],
   "source": []
  }
 ],
 "metadata": {
  "kernelspec": {
   "display_name": "Python 3 (ipykernel)",
   "language": "python",
   "name": "python3"
  },
  "language_info": {
   "codemirror_mode": {
    "name": "ipython",
    "version": 3
   },
   "file_extension": ".py",
   "mimetype": "text/x-python",
   "name": "python",
   "nbconvert_exporter": "python",
   "pygments_lexer": "ipython3",
   "version": "3.10.9"
  }
 },
 "nbformat": 4,
 "nbformat_minor": 5
}
